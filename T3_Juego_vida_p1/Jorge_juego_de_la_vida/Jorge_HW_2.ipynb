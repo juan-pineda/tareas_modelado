{
 "cells": [
  {
   "cell_type": "code",
   "execution_count": 10,
   "metadata": {},
   "outputs": [],
   "source": [
    "import numpy as np\n",
    "import matplotlib.pyplot as plt\n",
    "import matplotlib.animation as animation\n",
    "import matplotlib.colors as colors\n",
    "\n",
    "plt.rc('text', usetex = True)\n",
    "plt.rc('font', family = 'serif')"
   ]
  },
  {
   "cell_type": "markdown",
   "metadata": {},
   "source": [
    "# Función que establece las fronteras "
   ]
  },
  {
   "cell_type": "code",
   "execution_count": 11,
   "metadata": {},
   "outputs": [],
   "source": [
    "# matrx --> matriz de n x n\n",
    "# n     --> dimensión de la matriz\n",
    "\n",
    "def fronteras(matrx, n):\n",
    "    \n",
    "    matrx[0: n, 0]     = 0\n",
    "    matrx[0: n, n - 1] = 0\n",
    "    matrx[0, 0: n]     = 0\n",
    "    matrx[n - 1, 0: n] = 0\n",
    "    \n",
    "    return matrx"
   ]
  },
  {
   "cell_type": "markdown",
   "metadata": {},
   "source": [
    "# Función que crea la matriz aleatoria de ceros y unos"
   ]
  },
  {
   "cell_type": "code",
   "execution_count": 12,
   "metadata": {},
   "outputs": [],
   "source": [
    "# n --> dimensión de la matriz\n",
    "\n",
    "def aleatoria(n):\n",
    "    \n",
    "    A = np.random.randint(0, 2, (n, n))\n",
    "    \n",
    "    A = fronteras(A, n)\n",
    "    \n",
    "    return A"
   ]
  },
  {
   "cell_type": "markdown",
   "metadata": {},
   "source": [
    "# Función que toma una matriz aleatoria, y para cada celda, captura los estados de las celdas vecinas"
   ]
  },
  {
   "cell_type": "code",
   "execution_count": 13,
   "metadata": {},
   "outputs": [],
   "source": [
    "# A --> matriz de n x n\n",
    "# n --> dimensión de la matriz\n",
    "\n",
    "def states(A, n):\n",
    "\n",
    "    B1 = np.roll(A, (1, 0), axis = (1, 0))     # Captura celda a izquierda\n",
    "    B2 = np.roll(A, (- 1, 0), axis = (1, 0))   # Captura celda a derecha\n",
    "    B3 = np.roll(A, (1, 0), axis = (0, 1))     # Captura celda arriba\n",
    "    B4 = np.roll(A, (- 1, 0), axis = (0, 1))   # Captura celda abajo\n",
    "    B5 = np.roll(A, (1, 1), axis = (1, 0))     # Captura celda diag sup izq\n",
    "    B6 = np.roll(A, (- 1, 1), axis = (1, 0))   # Captura celda diag sup der\n",
    "    B7 = np.roll(A, (- 1, - 1), axis = (1, 0)) # Captura celda diag inf der\n",
    "    B8 = np.roll(A, (1, - 1), axis = (1, 0))   # Captura celda diag inf der\n",
    "\n",
    "    suma = B1 + B2 + B3 + B4 + B5 + B6 + B7 + B8\n",
    "    \n",
    "    suma = fronteras(suma, n)\n",
    "    \n",
    "    return suma"
   ]
  },
  {
   "cell_type": "markdown",
   "metadata": {},
   "source": [
    "# Función que establece los parámetros para determinar si una celda pasa a estar activa o no"
   ]
  },
  {
   "cell_type": "code",
   "execution_count": 14,
   "metadata": {},
   "outputs": [],
   "source": [
    "# A --> matriz de n x n\n",
    "# T --> matriz suma total de estados (celdas vecinas activas)\n",
    "# n --> dimensión de la matriz\n",
    "\n",
    "def play(A, T, n):\n",
    "    \n",
    "    for i in range(n):\n",
    "    \n",
    "        for j in range(n):\n",
    "\n",
    "            if A[i, j] == 0 and T[i, j] == 3:\n",
    "        \n",
    "                A[i, j] = 1\n",
    "        \n",
    "            elif A[i, j] == 0 and T[i, j] != 3:\n",
    "            \n",
    "                A[i, j] = 0\n",
    "        \n",
    "            elif A[i, j] == 1 and (T[i, j] == 2 or T[i, j] == 3):\n",
    "            \n",
    "                A[i, j] = 1\n",
    "                        \n",
    "            elif A[i, j] == 1 and (T[i, j] > 3 or T[i, j] < 2):\n",
    "                \n",
    "                A[i, j] = 0     \n",
    "                \n",
    "    return A"
   ]
  },
  {
   "cell_type": "markdown",
   "metadata": {},
   "source": [
    "# Función que permite evolucionar en el tiempo el estado de cada celda, determina algunos parámetros estadísticos de las celdas y la matriz en general, y exporta un video con la evolución del sistema"
   ]
  },
  {
   "cell_type": "code",
   "execution_count": 15,
   "metadata": {},
   "outputs": [],
   "source": [
    "# t --> Cantidad de pasos para la evolución del sistema (generaciones)\n",
    "# n --> dimensión de la matriz\n",
    "\n",
    "def movie(t, n):\n",
    "\n",
    "    A = aleatoria(n)\n",
    "    \n",
    "    images = []\n",
    "    popltn = []\n",
    "    perc_l = []\n",
    "    perc_d = []\n",
    "    aver   = np.zeros((n, n))\n",
    "    \n",
    "    fig, ax = plt.subplots()\n",
    "    \n",
    "    for i in range(t):\n",
    "    \n",
    "        suma = states(A, n)\n",
    "    \n",
    "        A = play(A, suma, n)\n",
    "        \n",
    "        popltn.append(np.sum(A))\n",
    "        perc_l.append(popltn[i] * 100 / (n * n))\n",
    "        perc_d.append(100 - perc_l[i])\n",
    "        aver = aver + A\n",
    "\n",
    "        title = ax.text(0.5,1.05, r'Población: {:.0f}, Generación {:.0f}' .format(n * n, i), \n",
    "                        size = plt.rcParams['axes.titlesize'],\n",
    "                        ha = 'center', transform = ax.transAxes)\n",
    "    \n",
    "        map_c = colors.ListedColormap(['black', 'white'])\n",
    "        im = plt.imshow(A, animated = True, cmap = map_c)  \n",
    "        images.append([im, title])\n",
    "\n",
    "    plt.xticks([])    \n",
    "    plt.yticks([])\n",
    "    \n",
    "    ani = animation.ArtistAnimation(fig, images, interval = 500, blit = True, repeat_delay = 0)\n",
    "\n",
    "    ani.save('life_game.mp4', dpi = 500)\n",
    "    \n",
    "    plt.savefig('fig1.png', dpi = 1000, quality = 99, transparent = True)\n",
    "    plt.show()\n",
    "    \n",
    "    return perc_l, perc_d, aver"
   ]
  },
  {
   "cell_type": "markdown",
   "metadata": {},
   "source": [
    "# Parámetros iniciales y ejecución"
   ]
  },
  {
   "cell_type": "code",
   "execution_count": 16,
   "metadata": {},
   "outputs": [
    {
     "data": {
      "image/png": "[encoded data removed]",
      "text/plain": [
       "<Figure size 432x288 with 1 Axes>"
      ]
     },
     "metadata": {},
     "output_type": "display_data"
    }
   ],
   "source": [
    "t = 30\n",
    "n = 30\n",
    "\n",
    "pp1, pp2, average = movie(t, n)"
   ]
  },
  {
   "cell_type": "markdown",
   "metadata": {},
   "source": [
    "# Gráfica de barras (porcentaje de celdas activas -- azul-- y muertas --naranja-- en función de la cantidad de días)"
   ]
  },
  {
   "cell_type": "code",
   "execution_count": 17,
   "metadata": {},
   "outputs": [
    {
     "data": {
      "image/png": "[encoded data removed]",
      "text/plain": [
       "<Figure size 1152x576 with 1 Axes>"
      ]
     },
     "metadata": {
      "needs_background": "light"
     },
     "output_type": "display_data"
    }
   ],
   "source": [
    "fig1, axx = plt.subplots(figsize = (16, 8))\n",
    "\n",
    "axx.bar(range(t), pp1, label = r'Alive rate', color = 'blue', width = 0.5)\n",
    "axx.bar(range(t), pp2, bottom = pp1, label = r'Death rate', color = 'orange', width = 0.5)\n",
    "\n",
    "plt.legend(frameon = False, loc = (1.05, 0.4), fontsize = 20)\n",
    "plt.xlabel(r'Days', fontsize = 20, labelpad = 14)\n",
    "plt.ylabel(r'Percent $\\left[\\%\\right]$', fontsize = 20, labelpad = 12)\n",
    "plt.xticks(range(t), rotation = 90)\n",
    "plt.xticks(fontsize = 20)\n",
    "plt.tick_params(axis = 'both', which = 'major', pad = 12)\n",
    "plt.yticks(fontsize = 20)\n",
    "\n",
    "fig1.tight_layout()\n",
    "plt.savefig('fig2.png', dpi = 1000, quality = 99, transparent = True)\n",
    "plt.show()"
   ]
  },
  {
   "cell_type": "markdown",
   "metadata": {},
   "source": [
    "# Gráfica de promedio de celdas activas"
   ]
  },
  {
   "cell_type": "code",
   "execution_count": 18,
   "metadata": {},
   "outputs": [
    {
     "data": {
      "image/png": "[encoded data removed]",
      "text/plain": [
       "<Figure size 432x288 with 2 Axes>"
      ]
     },
     "metadata": {
      "needs_background": "light"
     },
     "output_type": "display_data"
    }
   ],
   "source": [
    "fig, ax1 = plt.subplots()\n",
    "\n",
    "im = ax1.imshow(average, cmap = 'hot')\n",
    "\n",
    "cb = plt.colorbar(im, pad = 0.03)\n",
    "plt.xticks([])    \n",
    "plt.yticks([])\n",
    "cb.set_label(r'Promedio celdas vivas', color = 'black', labelpad = 12, fontsize = 16)\n",
    "cb.ax.tick_params(labelsize = 16, pad = 8)\n",
    "plt.savefig('fig3.png', dpi = 1000, quality = 99, transparent = True)\n",
    "plt.show()"
   ]
  },
  {
   "cell_type": "code",
   "execution_count": null,
   "metadata": {},
   "outputs": [],
   "source": []
  }
 ],
 "metadata": {
  "kernelspec": {
   "display_name": "Python 3",
   "language": "python",
   "name": "python3"
  },
  "language_info": {
   "codemirror_mode": {
    "name": "ipython",
    "version": 3
   },
   "file_extension": ".py",
   "mimetype": "text/x-python",
   "name": "python",
   "nbconvert_exporter": "python",
   "pygments_lexer": "ipython3",
   "version": "3.7.4"
  }
 },
 "nbformat": 4,
 "nbformat_minor": 2
}
