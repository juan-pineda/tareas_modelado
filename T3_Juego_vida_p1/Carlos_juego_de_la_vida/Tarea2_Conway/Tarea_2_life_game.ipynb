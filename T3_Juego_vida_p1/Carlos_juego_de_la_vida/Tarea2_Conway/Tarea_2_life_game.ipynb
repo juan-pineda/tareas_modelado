{
 "cells": [
  {
   "cell_type": "markdown",
   "metadata": {},
   "source": [
    "# Modelado Matemático\n",
    "\n",
    "**Carlos Andrés Bautista Torres**\n",
    "\n",
    "código: 2208057\n",
    "\n",
    "<img src=\"imagenes\\fig1.png\" width=\"150%\" align=\"center\" >\n",
    "\n",
    "\n",
    "## EL JUEGO DE LA VIDA\n",
    "\n",
    "> **En su versión original, las reglasdel juego son:**\n",
    "* Una célula muerta con exactamente 3 células vecinas vivas \"nace\" (es decir, al turno siguiente estará viva).\n",
    "* Una célula viva con 2 o 3 células vecinas vivas sigue viva, en otro caso muere (por \"soledad\" o \"superpoblación\").\n"
   ]
  },
  {
   "cell_type": "code",
   "execution_count": 133,
   "metadata": {},
   "outputs": [],
   "source": [
    "import numpy as np                #librería para declarar matrices y otras funciones necesarias para el juego\n",
    "import matplotlib.pyplot as plt   #librería para graficar\n",
    "import imageio\n",
    "import os # para borrar archivos.\n",
    "from IPython.display import Image, display\n",
    "#from matplotlib.animation import FuncAnimation, PillowWriter  #librería para hacer gif directamente.\n",
    "#import matplotlib.animation as animation "
   ]
  },
  {
   "cell_type": "code",
   "execution_count": 2,
   "metadata": {},
   "outputs": [],
   "source": [
    "def dim_matrix(M): # en este modelo usaremos solo matrices cuadradas.\n",
    "    a = np.random.randint(low=0, high=2, size=M**2)\n",
    "    a = a.reshape(M, M)\n",
    "    return a"
   ]
  },
  {
   "cell_type": "code",
   "execution_count": 60,
   "metadata": {},
   "outputs": [],
   "source": [
    "# Esta función limpia los bordes de la matríz, en este punto, dim = dim-2.\n",
    "def clean_borders(a:np.ndarray, dim): \n",
    "    a[0,:] = 0\n",
    "    a[dim-1,:] = 0\n",
    "    a[:,0] = 0\n",
    "    a[:,dim-1] = 0\n",
    "    return a\n",
    "    "
   ]
  },
  {
   "cell_type": "markdown",
   "metadata": {},
   "source": [
    "Para hacer el conteo de los vecinos vivos y muertos para cada casilla, se tiene en cuenta la siguiente configuración.\n",
    "\n",
    "<img src=\"imagenes\\vecinos.png\" width=\"50%\" align=\"center\" >\n",
    "\n",
    "En la función que definiré en la siguiente linea, se comienza centrando en v8 y a partir de allí se va rodando por todo el borde hasta llegar a v1."
   ]
  },
  {
   "cell_type": "code",
   "execution_count": 59,
   "metadata": {},
   "outputs": [],
   "source": [
    "# Cuenta los vecinos que tiene cada celda.\n",
    "# es importante especificar el tipo de variable que es \"a\". De lo contrario no entenderá.\n",
    "def counter(a:np.ndarray): \n",
    "    v8 = np.roll(a , shift = 1 , axis = 1)\n",
    "    v7 = np.roll(v8, shift =-1 , axis = 0)\n",
    "    v6 = np.roll(v7, shift =-1 , axis = 1)\n",
    "    v5 = np.roll(v6, shift =-1 , axis = 1)\n",
    "    v4 = np.roll(v5, shift = 1 , axis = 0)\n",
    "    v3 = np.roll(v4, shift = 1 , axis = 0)\n",
    "    v2 = np.roll(v3, shift = 1 , axis = 1)\n",
    "    v1 = np.roll(v2, shift = 1 , axis = 1)\n",
    "    return v1+v2+v3+v4+v5+v6+v7+v8\n"
   ]
  },
  {
   "cell_type": "code",
   "execution_count": 5,
   "metadata": {},
   "outputs": [],
   "source": [
    "# se tuvieron en cuenta las condiciones originales del juego.\n",
    "def new_matrix(a:np.ndarray, b:np.ndarray):\n",
    "    i,j = 0,0\n",
    "    while i <= len(a)-1:\n",
    "        while j <= len(a)-1:\n",
    "            if b[i,j] == 3 and a[i,j] == 0:\n",
    "                a[i,j] = 1\n",
    "            if (b[i,j] == 3 or b[i,j] == 2) and a[i,j] == 1:\n",
    "                a[i,j] = 1\n",
    "            else:\n",
    "                a[i,j] = 0\n",
    "            j = j + 1\n",
    "        j = 0\n",
    "        i = i + 1\n",
    "    return a"
   ]
  },
  {
   "cell_type": "code",
   "execution_count": 55,
   "metadata": {},
   "outputs": [],
   "source": [
    "def main_aleatory(dim, t):\n",
    "    dim = dim + 2   # esto compensa la reducción en la dimensión que hace clean_borders\n",
    "    a2 = dim_matrix(dim) \n",
    "    a = clean_borders(a2, dim)\n",
    "    plt.imshow(a)\n",
    "    plt.title('tiempo_0')\n",
    "    plt.savefig('imag_0.jpg')\n",
    "    images = []\n",
    "    for i in list(range(t+1)):\n",
    "        b = counter(a)\n",
    "        c2 = new_matrix(a,b)\n",
    "        c = clean_borders(c2, dim)\n",
    "        plt.title('tiempo_{}'.format(i))\n",
    "        plt.imshow(c)\n",
    "        plt.savefig('imag_{}.jpg'.format(i)) # el .format me guarda cada imagen con un _# diferente\n",
    "        images.append(imageio.imread(\"imag_{}.jpg\".format(i))) # Aquí las lee para poner al gif \n",
    "        imageio.mimsave('movie.gif', images, fps= 3)  # Aquí las añade al gif\n",
    "        os.remove(\"imag_{}.jpg\".format(i)) # Aquí se borra la imagen para que no ocupe memoria\n",
    "        a = c\n",
    "    "
   ]
  },
  {
   "cell_type": "markdown",
   "metadata": {},
   "source": [
    "#  Resultado!\n"
   ]
  },
  {
   "cell_type": "code",
   "execution_count": 57,
   "metadata": {
    "scrolled": true
   },
   "outputs": [
    {
     "data": {
      "image/png": "[encoded data removed]",
      "text/plain": [
       "<Figure size 432x288 with 1 Axes>"
      ]
     },
     "metadata": {
      "needs_background": "light"
     },
     "output_type": "display_data"
    }
   ],
   "source": [
    "main_aleatory(10, 30)"
   ]
  },
  {
   "cell_type": "markdown",
   "metadata": {},
   "source": [
    " **------------------------------------------------------------------------------------------------------------------------------------**\n",
    "## GIF\n",
    "![SegmentLocal](movie.gif \"segment\")"
   ]
  },
  {
   "cell_type": "code",
   "execution_count": null,
   "metadata": {},
   "outputs": [],
   "source": []
  },
  {
   "cell_type": "markdown",
   "metadata": {},
   "source": [
    " **------------------------------------------------------------------------------------------------------------------------------------**\n",
    "## Figuras periodicas\n",
    "Una de las características que posee este juego, es que se pueden generar soluciones estacionarias, bajo condiciones iniciales específicas. En el siguiente caso la solución es oscilatoria y estable  "
   ]
  },
  {
   "cell_type": "code",
   "execution_count": 179,
   "metadata": {
    "scrolled": false
   },
   "outputs": [
    {
     "data": {
      "image/png": "[encoded data removed]",
      "text/plain": [
       "<Figure size 432x288 with 1 Axes>"
      ]
     },
     "metadata": {
      "needs_background": "light"
     },
     "output_type": "display_data"
    }
   ],
   "source": [
    "M =np.array([[0,0,0,0,0,0,0,0,0,0,0,0],\n",
    "             [0,1,0,0,0,0,0,0,0,0,0,0],\n",
    "             [0,0,1,1,0,0,0,0,0,0,0,0],\n",
    "             [0,1,1,0,0,0,0,0,0,0,0,0],\n",
    "             [0,0,0,0,0,0,0,0,0,0,0,0],\n",
    "             [0,0,0,0,0,0,0,0,0,0,0,0],\n",
    "             [0,0,0,0,0,0,0,0,0,0,0,0],\n",
    "             [0,0,0,0,0,0,0,0,0,0,0,0],\n",
    "             [0,0,0,0,0,0,0,0,0,0,0,0],\n",
    "             [0,0,0,0,0,0,0,0,0,0,0,0],\n",
    "             [0,0,0,0,0,0,0,0,0,0,0,0],\n",
    "             [0,0,0,0,0,0,0,0,0,0,0,0]])\n",
    "dim = 12\n",
    "a = clean_borders(M, 12)\n",
    "plt.imshow(a)\n",
    "plt.savefig('imag_0.jpg')\n",
    "t = 25\n",
    "images = []\n",
    "for i in list(range(t+1)):\n",
    "    b = counter(a)\n",
    "    c2 = new_matrix(a,b)\n",
    "    c = clean_borders(c2, dim)\n",
    "    plt.imshow(c)\n",
    "    plt.savefig('imag_{}.jpg'.format(i)) # el .format me guarda cada imagen con un _# diferente\n",
    "    images.append(imageio.imread(\"imag_{}.jpg\".format(i))) # Aquí las lee para poner al gif \n",
    "    imageio.mimsave('mini_prueba3.gif', images, fps= 3)  # Aquí las añade al gif\n",
    "    os.remove(\"imag_{}.jpg\".format(i)) # Aquí se borra la imagen para que no ocupe memoria\n",
    "    a = c"
   ]
  },
  {
   "cell_type": "markdown",
   "metadata": {},
   "source": [
    " **------------------------------------------------------------------------------------------------------------------------------------**\n",
    "## Gif que poseen cierta periodicidad!!\n",
    "![SegmentLocal](mini_prueba2.gif \"segment\")\n",
    "![SegmentLocal](mini_prueba.gif \"segment\") \n",
    "![SegmentLocal](mini_prueba3.gif \"segment\")"
   ]
  },
  {
   "cell_type": "markdown",
   "metadata": {},
   "source": [
    " **------------------------------------------------------------------------------------------------------------------------------------**\n",
    " # Análisis estadístico\n",
    " \n",
    " Podemos realizar el conteo de células vivas en cada momento y obtener una gráfica de población en el tiempo."
   ]
  },
  {
   "cell_type": "code",
   "execution_count": 157,
   "metadata": {},
   "outputs": [],
   "source": [
    "def population(a:np.ndarray):\n",
    "    suma = a.sum()\n",
    "    return suma\n",
    "    "
   ]
  },
  {
   "cell_type": "code",
   "execution_count": null,
   "metadata": {},
   "outputs": [],
   "source": []
  },
  {
   "cell_type": "code",
   "execution_count": 158,
   "metadata": {},
   "outputs": [],
   "source": [
    "def main_aleatory_statistic(dim, t):\n",
    "    p = []\n",
    "    dim = dim + 2  # esto compensa la reducción en la dimensión que hace clean_borders\n",
    "    a2 = dim_matrix(dim)\n",
    "    a = clean_borders(a2, dim)\n",
    "    p.append(population(a))\n",
    "    plt.imshow(a)\n",
    "    plt.title('tiempo_0')\n",
    "    plt.savefig('imag_0.jpg')\n",
    "    images = []\n",
    "    for i in list(range(t+1)):\n",
    "        b = counter(a)\n",
    "        c2 = new_matrix(a,b)\n",
    "        c = clean_borders(c2, dim)\n",
    "        p.append(population(c))   #guardamos los datos en el vector p\n",
    "        plt.title('tiempo_{}'.format(i))\n",
    "        plt.imshow(c)\n",
    "        plt.savefig('imag_{}.jpg'.format(i)) \n",
    "        images.append(imageio.imread(\"imag_{}.jpg\".format(i))) \n",
    "        imageio.mimsave('movie_statistics.gif', images, fps= 3) \n",
    "        os.remove(\"imag_{}.jpg\".format(i)) \n",
    "        a = c\n",
    "    return p"
   ]
  },
  {
   "cell_type": "code",
   "execution_count": 168,
   "metadata": {},
   "outputs": [],
   "source": [
    "def plott(t):\n",
    "    x = x =list(range(t+2))\n",
    "    plt.title(\"población en función del tiempo\")\n",
    "    plt.xlabel('días')\n",
    "    plt.ylabel('personas vivas')\n",
    "    plt.plot(x,y)"
   ]
  },
  {
   "cell_type": "code",
   "execution_count": 181,
   "metadata": {
    "scrolled": true
   },
   "outputs": [
    {
     "data": {
      "image/png": "[encoded data removed]",
      "text/plain": [
       "<Figure size 432x288 with 1 Axes>"
      ]
     },
     "metadata": {
      "needs_background": "light"
     },
     "output_type": "display_data"
    }
   ],
   "source": [
    "y = main_aleatory_statistic(10,30)\n",
    "z = main_aleatory_statistic(10,30)\n",
    "w = main_aleatory_statistic(10,30)\n"
   ]
  },
  {
   "cell_type": "markdown",
   "metadata": {},
   "source": [
    "![SegmentLocal](movie_statistics.gif \"segment\")"
   ]
  },
  {
   "cell_type": "code",
   "execution_count": null,
   "metadata": {},
   "outputs": [],
   "source": []
  },
  {
   "cell_type": "code",
   "execution_count": 191,
   "metadata": {
    "scrolled": true
   },
   "outputs": [
    {
     "data": {
      "image/png": "[encoded data removed]",
      "text/plain": [
       "<Figure size 432x288 with 3 Axes>"
      ]
     },
     "metadata": {
      "needs_background": "light"
     },
     "output_type": "display_data"
    }
   ],
   "source": [
    "t = 30\n",
    "x = x =list(range(t+2))\n",
    "\n",
    "plt.subplot(3, 1, 1)\n",
    "plt.plot(x,y)\n",
    "plt.ylabel('Nº personas')\n",
    "plt.xlabel(\"Días\")\n",
    "plt.grid()\n",
    "\n",
    "plt.subplot(3, 1, 2)\n",
    "plt.plot(x,z)\n",
    "plt.ylabel('Nº personas')\n",
    "plt.xlabel(\"Días\")\n",
    "plt.grid()\n",
    "\n",
    "plt.subplot(3, 1, 3)\n",
    "plt.plot(x,w)\n",
    "plt.ylabel('Nº personas')\n",
    "plt.xlabel(\"Días\")\n",
    "plt.grid()\n",
    "\n",
    "plt.subplots_adjust(left=None, bottom=-0.8, right=2.5, top=None, wspace=None, hspace=0.4)\n",
    "plt.show()"
   ]
  },
  {
   "cell_type": "markdown",
   "metadata": {},
   "source": [
    "Lo que observé tras haber realizado varias corridas con matrices iniciales aleatorias, fue una considerable disminución de células vivas en el primer paso de tiempo. Esto se debe a que es más probable que mueran células a que nazcan, debido a las mismas normas del juego. Después de la disminución de las células vivas, lo que ocurre es prácticamente incierto, aunque usualmente llega un punto donde la población se estabiliza y en otros casos donde incluso se estabilizan en \"0 personas vivas\". "
   ]
  },
  {
   "cell_type": "code",
   "execution_count": null,
   "metadata": {},
   "outputs": [],
   "source": []
  }
 ],
 "metadata": {
  "kernelspec": {
   "display_name": "Python 3",
   "language": "python",
   "name": "python3"
  },
  "language_info": {
   "codemirror_mode": {
    "name": "ipython",
    "version": 3
   },
   "file_extension": ".py",
   "mimetype": "text/x-python",
   "name": "python",
   "nbconvert_exporter": "python",
   "pygments_lexer": "ipython3",
   "version": "3.7.6"
  }
 },
 "nbformat": 4,
 "nbformat_minor": 4
}
