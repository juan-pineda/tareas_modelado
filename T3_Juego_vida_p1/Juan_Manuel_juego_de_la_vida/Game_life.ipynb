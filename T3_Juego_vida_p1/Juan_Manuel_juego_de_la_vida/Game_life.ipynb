{
 "cells": [
  {
   "cell_type": "markdown",
   "metadata": {},
   "source": [
    "# Game_life"
   ]
  },
  {
   "cell_type": "markdown",
   "metadata": {},
   "source": [
    "Juan Manuel Velásquez Cadavid, 2208056."
   ]
  },
  {
   "cell_type": "code",
   "execution_count": null,
   "metadata": {
    "slideshow": {
     "slide_type": "-"
    }
   },
   "outputs": [],
   "source": [
    "import numpy as np\n",
    "import matplotlib.pyplot as plt\n",
    "from matplotlib import rc\n",
    "import sys\n",
    "import os\n",
    "from os import listdir"
   ]
  },
  {
   "cell_type": "markdown",
   "metadata": {},
   "source": [
    "En primera instancia, se calculan los estados de cada celda de la matriz original. Para ello, se traslada la matriz original en las direcciones de las celdas vecinas a través de la función np.roll, y de acuerdo a la diferencia entre la matriz trasladada y la original se asignará el nuevo valor a cada celda."
   ]
  },
  {
   "cell_type": "code",
   "execution_count": null,
   "metadata": {},
   "outputs": [],
   "source": [
    "def matrices(table, dim):\n",
    "    \"\"\"\n",
    "    En esta función se definen las matrices principales:\n",
    "    roll_u := traslada la matriz original hacia arriba,\n",
    "    roll_d := traslada la matriz original hacia abajo,\n",
    "    roll_l := traslada la matriz original hacia la izquierda,\n",
    "    roll_r := traslada la matriz original hacia la derecha.\n",
    "    roll_u_l := traslada la matriz original hacia arriba a la izquierda,\n",
    "    roll_u_r := traslada la matriz original hacia arriba a la derecha,\n",
    "    roll_d_l := traslada la matriz original hacia abajo a izquierda,\n",
    "    roll_d_r := traslada la matriz original hacia abajo la derecha.\n",
    "    \"\"\"\n",
    "    roll_u = np.roll(table, -1,axis=0)\n",
    "    roll_d = np.roll(table,  1,axis=0)\n",
    "    roll_l = np.roll(table, -1,axis=1)\n",
    "    roll_r = np.roll(table,  1,axis=1)\n",
    "\n",
    "    u = roll_u - table \n",
    "    d = roll_d - table\n",
    "    l = roll_l - table\n",
    "    r = roll_r - table\n",
    "\n",
    "    roll_u_l = np.roll(roll_u, -1,axis=1)\n",
    "    roll_u_r = np.roll(roll_u,  1,axis=1)\n",
    "    roll_d_l = np.roll(roll_d, -1,axis=1)\n",
    "    roll_d_r = np.roll(roll_d,  1,axis=1)\n",
    "\n",
    "    u_l = roll_u_l - table\n",
    "    u_r = roll_u_r - table\n",
    "    d_l = roll_d_l - table\n",
    "    d_r = roll_d_r - table\n",
    "    \n",
    "    return u, d, l, r, u_l, u_r, d_l, d_r"
   ]
  },
  {
   "cell_type": "markdown",
   "metadata": {},
   "source": [
    "Para la evolución del tablero se tienen en cuenta las condiciones de mortalidad y natalidad. Se inicializan los valores requeridos para el conteo de dichas condiciones, así como un arreglo del número de celdas vivas (número de unos en la matriz), otro con el número de nacidos (nuevas celdas que satisfagan la condición y cambien su estado de 0 a 1), uno con el número de celdas que murieron, y otro que ocupe el paso de cada generación."
   ]
  },
  {
   "cell_type": "code",
   "execution_count": null,
   "metadata": {},
   "outputs": [],
   "source": [
    "def evolve(dim, gen, table, u,d, l, r, u_l, u_r, d_l, d_r):\n",
    "    \"\"\"\n",
    "    Evoluciona el tablero original de acuerdo a las condiciones:\n",
    "    1) Si una celda tiene dos o tres vecinas, vive. De lo contrario muere por soledad o sobrepoblación.\n",
    "    2) Una célula \"muerta\" (apagada) nace si tiene exactamente tres vecinas vivas.\n",
    "    \"\"\"\n",
    "    vecino  = 0\n",
    "    nacer   = 0\n",
    "    nacido_ = 0\n",
    "    muerto_ = 0\n",
    "    g = 1\n",
    "    \n",
    "    ones = np.count_nonzero(table == 1)   \n",
    "    print('la población inicial es: ', ones) \n",
    "    pop = [ones]\n",
    "    generation = [0]\n",
    "    nacido = [0]\n",
    "    muerto = [0]\n",
    "    #remove()\n",
    "    save_graph(gen, generation, pop, nacido, muerto)\n",
    "    \n",
    "    table_sig = table\n",
    "    \n",
    "    while(g <= gen):\n",
    "        for i in range (1,dim-1):\n",
    "            for j in range (1,dim-1):\n",
    "\n",
    "                if(table[i,j]==1):\n",
    "\n",
    "                    if(u[i,j]==0): vecino += 1\n",
    "                    if(d[i,j]==0): vecino += 1\n",
    "                    if(l[i,j]==0): vecino += 1\n",
    "                    if(r[i,j]==0): vecino += 1\n",
    "                    if(u_l[i,j]==0): vecino += 1\n",
    "                    if(u_r[i,j]==0): vecino += 1\n",
    "                    if(d_l[i,j]==0): vecino += 1\n",
    "                    if(d_r[i,j]==0): vecino += 1\n",
    "\n",
    "                    if(vecino <= 1 or vecino > 3):\n",
    "                        table_sig[i,j] = 0\n",
    "                        muerto_ += 1\n",
    "                    vecino = 0\n",
    "\n",
    "                else:\n",
    "\n",
    "                    if(u[i,j]==1): nacer += 1\n",
    "                    if(d[i,j]==1): nacer += 1\n",
    "                    if(l[i,j]==1): nacer += 1\n",
    "                    if(r[i,j]==1): nacer += 1\n",
    "                    if(u_l[i,j]==1): nacer += 1\n",
    "                    if(u_r[i,j]==1): nacer += 1\n",
    "                    if(d_l[i,j]==1): nacer += 1\n",
    "                    if(d_r[i,j]==1): nacer += 1\n",
    "\n",
    "                    if(nacer == 3):\n",
    "                        table_sig[i,j] = 1\n",
    "                        nacido_ += 1\n",
    "                    nacer  = 0\n",
    "        \n",
    "        nacido.append(nacido_)\n",
    "        muerto.append(muerto_)\n",
    "        nacido_ = 0\n",
    "        muerto_ = 0\n",
    "        \n",
    "        table = table_sig\n",
    "        save_table(g,table)\n",
    "        \n",
    "        ones = np.count_nonzero(table == 1)\n",
    "        \n",
    "        pop.append(ones)\n",
    "        generation.append(g+1)\n",
    "        \n",
    "        u,d, l, r, u_l, u_r, d_l, d_r = matrices(table, dim)\n",
    "        \n",
    "        g += 1\n",
    "    \n",
    "    tab_fin = table.copy()\n",
    "    save_graph(gen, generation, pop,nacido,muerto)"
   ]
  },
  {
   "cell_type": "markdown",
   "metadata": {},
   "source": [
    "El resultado de cada ciclo se grafica y se salva."
   ]
  },
  {
   "cell_type": "code",
   "execution_count": null,
   "metadata": {},
   "outputs": [],
   "source": [
    "def save_table(g,table):\n",
    "    \"\"\"\n",
    "    Salva las imagenes de los tableros en cada generación.\n",
    "    \"\"\"\n",
    "    rc('font',**{'family':'serif','serif':['Times']})\n",
    "    rc('text', usetex=True)\n",
    "    name = str(g)\n",
    "    plt.figure(figsize=(10,10))\n",
    "    plt.title('Generación = '+name, fontsize=25)\n",
    "    plt.axis('off')\n",
    "    plt.imshow(table, cmap='gray')\n",
    "    plt.savefig(name,cmap='gray')    \n",
    "    plt.close()"
   ]
  },
  {
   "cell_type": "code",
   "execution_count": null,
   "metadata": {},
   "outputs": [],
   "source": [
    " def save_graph(gen, generation, pop, nacido, muerto):\n",
    "    \"\"\"\n",
    "    Salva una gráfica con los datos de la población viva, los muertos y los nacidos en \n",
    "    función del la generación.\n",
    "    \"\"\"\n",
    "    rc('font',**{'family':'serif','serif':['Times']})\n",
    "    rc('text', usetex=True)\n",
    "    plt.figure(figsize=(10,10))\n",
    "    plt.plot(generation, pop, \"b\", label = r\"Vivos\")\n",
    "    plt.plot(generation, nacido, \"g\", label = r\"Nacidos\")\n",
    "    plt.plot(generation, muerto, \"r\", label = r\"Muertos\")\n",
    "    plt.xlabel(r\"Generación\", fontsize = 25)\n",
    "    plt.ylabel(r\"Población\", fontsize = 25)\n",
    "    plt.xticks(fontsize=15)\n",
    "    plt.yticks(fontsize=15)\n",
    "    plt.xlim(0, gen)\n",
    "    plt.ylim(0, )\n",
    "    plt.legend()\n",
    "    plt.legend(fontsize=15)\n",
    "    plt.grid()\n",
    "    plt.savefig('population',cmap='gray')\n",
    "    plt.close()"
   ]
  },
  {
   "cell_type": "markdown",
   "metadata": {},
   "source": [
    "Cada que se ejecuta el código se eliminan todos los archivos con extención \".png\". Para esto es necesario cambiar el directorio en el cual se estén guardando las imágenes."
   ]
  },
  {
   "cell_type": "code",
   "execution_count": null,
   "metadata": {},
   "outputs": [],
   "source": [
    "def remove():\n",
    "    \n",
    "    directory=os.listdir(\"/home/jm/Documentos/Cosas de la U/maestría/Modelado_1/Game_life_entregable\")\n",
    "\n",
    "    for item in directory:\n",
    "        if item.endswith(\".png\"):\n",
    "            os.remove(item)"
   ]
  },
  {
   "cell_type": "markdown",
   "metadata": {},
   "source": [
    "Como dato inicial se genera una matriz de ceros y unos aleatorios de acuerdo a la semilla elegida, en la cual se eliminan los bordes (siempre en estado cero)."
   ]
  },
  {
   "cell_type": "code",
   "execution_count": null,
   "metadata": {},
   "outputs": [],
   "source": [
    "def main(dim, gen, seed):\n",
    "    \"\"\"\n",
    "    Aquí se define la matriz original con un arreglo aleatorio de dimensión \"dim\" ingresada por el\n",
    "    usuario, cuya aleatoriedad está definida por la semilla \"seed\", de tal forma que sea posible generar\n",
    "    una matriz aleatoria nueva cada que se varía este parámetro. El número de evoluciones es determinado \n",
    "    por el usuario.\n",
    "    \"\"\"    \n",
    "    remove()\n",
    "    np.random.seed(seed)\n",
    "    table = np.random.randint(low=0, high= 2, size = dim*dim).reshape(dim, dim)\n",
    "    table[0::1, 0::dim-1] = 0\n",
    "    table[0::dim-1, 0::1] = 0\n",
    "    \n",
    "    save_table(0,table)\n",
    "    u,d, l, r, u_l, u_r, d_l, d_r = matrices(table, dim)\n",
    "    evolve(dim, gen, table, u,d, l, r, u_l, u_r, d_l, d_r)\n",
    "    \n",
    "    return"
   ]
  },
  {
   "cell_type": "code",
   "execution_count": null,
   "metadata": {
    "scrolled": true
   },
   "outputs": [],
   "source": [
    "main(dim=100, gen=100, seed = 1)"
   ]
  }
 ],
 "metadata": {
  "kernelspec": {
   "display_name": "Python 3",
   "language": "python",
   "name": "python3"
  },
  "language_info": {
   "codemirror_mode": {
    "name": "ipython",
    "version": 3
   },
   "file_extension": ".py",
   "mimetype": "text/x-python",
   "name": "python",
   "nbconvert_exporter": "python",
   "pygments_lexer": "ipython3",
   "version": "3.7.6"
  }
 },
 "nbformat": 4,
 "nbformat_minor": 2
}
