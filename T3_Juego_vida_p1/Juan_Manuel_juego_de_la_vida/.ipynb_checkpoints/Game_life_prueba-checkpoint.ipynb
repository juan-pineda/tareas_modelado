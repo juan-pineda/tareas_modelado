{
 "cells": [
  {
   "cell_type": "code",
   "execution_count": 4,
   "metadata": {
    "slideshow": {
     "slide_type": "-"
    }
   },
   "outputs": [],
   "source": [
    "import numpy as np\n",
    "import matplotlib.pyplot as plt"
   ]
  },
  {
   "cell_type": "code",
   "execution_count": 5,
   "metadata": {},
   "outputs": [],
   "source": [
    "def matrices(table, dim):\n",
    "    \n",
    "    roll_u = np.roll(table, -1,axis=0)\n",
    "    roll_d = np.roll(table,  1,axis=0)\n",
    "    roll_l = np.roll(table, -1,axis=1)\n",
    "    roll_r = np.roll(table,  1,axis=1)\n",
    "\n",
    "    u = roll_u - table \n",
    "    d = roll_d - table\n",
    "    l = roll_l - table\n",
    "    r = roll_r - table\n",
    "\n",
    "    roll_u_l = np.roll(roll_u, -1,axis=1)\n",
    "    roll_u_r = np.roll(roll_u,  1,axis=1)\n",
    "    roll_d_l = np.roll(roll_d, -1,axis=1)\n",
    "    roll_d_r = np.roll(roll_d,  1,axis=1)\n",
    "\n",
    "    u_l = roll_u_l - table\n",
    "    u_r = roll_u_r - table\n",
    "    d_l = roll_d_l - table\n",
    "    d_r = roll_d_r - table\n",
    "    \n",
    "    return u, d, l, r, u_l, u_r, d_l, d_r"
   ]
  },
  {
   "cell_type": "code",
   "execution_count": 6,
   "metadata": {},
   "outputs": [],
   "source": [
    "def saveme_plotme(g,table,generation, pop):\n",
    "    \n",
    "    name = str(g)\n",
    "    plt.imshow(table, cmap='gray')\n",
    "    plt.imsave(name,table,cmap='gray')    \n",
    "    plt.close()\n",
    "        \n",
    "    plt.figure\n",
    "    plt.plot(generation, pop, \"--b\", label = r\"Vivos\")\n",
    "    plt.xlabel(r\"Generación\", fontsize = 16)\n",
    "    plt.ylabel(r\"Población\", fontsize = 16)\n",
    "    plt.legend()"
   ]
  },
  {
   "cell_type": "code",
   "execution_count": 7,
   "metadata": {},
   "outputs": [],
   "source": [
    "def evolve(dim, gen, table, u,d, l, r, u_l, u_r, d_l, d_r, seguir, ult_gen):\n",
    "        \n",
    "    vecino = 0\n",
    "    nacer  = 0\n",
    "    g = 1\n",
    "    \n",
    "    ones = np.count_nonzero(table == 1) \n",
    "    pop = [ones]\n",
    "    generation = [1]\n",
    "    \n",
    "    \n",
    "    table_sig = table\n",
    "    \n",
    "    if(seguir == True):\n",
    "        g = ult_gen+1\n",
    "    \n",
    "    while(g <= gen):\n",
    "        for i in range (1,dim-1):\n",
    "            for j in range (1,dim-1):\n",
    "\n",
    "                if(table[i,j]==1):\n",
    "\n",
    "                    if(u[i,j]==0): vecino += 1\n",
    "                    if(d[i,j]==0): vecino += 1\n",
    "                    if(l[i,j]==0): vecino += 1\n",
    "                    if(r[i,j]==0): vecino += 1\n",
    "                    if(u_l[i,j]==0): vecino += 1\n",
    "                    if(u_r[i,j]==0): vecino += 1\n",
    "                    if(d_l[i,j]==0): vecino += 1\n",
    "                    if(d_r[i,j]==0): vecino += 1\n",
    "\n",
    "                    if(vecino <= 1 or vecino > 3):\n",
    "                        table_sig[i,j] = 0\n",
    "                    vecino = 0\n",
    "\n",
    "                else:\n",
    "\n",
    "                    if(u[i,j]==1): nacer += 1\n",
    "                    if(d[i,j]==1): nacer += 1\n",
    "                    if(l[i,j]==1): nacer += 1\n",
    "                    if(r[i,j]==1): nacer += 1\n",
    "                    if(u_l[i,j]==1): nacer += 1\n",
    "                    if(u_r[i,j]==1): nacer += 1\n",
    "                    if(d_l[i,j]==1): nacer += 1\n",
    "                    if(d_r[i,j]==1): nacer += 1\n",
    "\n",
    "                    if(nacer == 3):\n",
    "                        table_sig[i,j] = 1\n",
    "                    nacer  = 0\n",
    "        \n",
    "        table = table_sig  \n",
    "        \n",
    "        ones = np.count_nonzero(table == 1)\n",
    "        pop.append(ones)\n",
    "        generation.append(g)\n",
    "        \n",
    "        saveme_plotme(g,table, generation, pop)\n",
    "        \n",
    "        u,d, l, r, u_l, u_r, d_l, d_r = matrices(table, dim)\n",
    "        g += 1"
   ]
  },
  {
   "cell_type": "code",
   "execution_count": 10,
   "metadata": {},
   "outputs": [],
   "source": [
    "def main(dim, gen, seguir, ult_gen):\n",
    "    \"\"\"\n",
    "    La función 'main' está definida de acuerdo al estado de 'seguir'.\n",
    "    \n",
    "    1) Estado 'seguir == False': inicializa la matriz cuadrada 'table' de dimensión 'dim' con ceros y unos \n",
    "       en posiciones aleatorias. La evolución se dará hasta la generación 'gen', e imprimirá en\n",
    "       pantalla la matriz de la última generación. Además, guarda las imágenes de las evoluciones \n",
    "       ennumeradas de acuerdo al número de la generación.\n",
    "       \n",
    "    2) Estado 'seguir == True': inicializa la matriz 'table' con la matriz de la última generación, \n",
    "       por lo cual es necesario copiar y pegar la matriz impresa en pantalla resultado \n",
    "       del estado 'False', y compilar de nuevo la función 'main'. En estado 'True' la evolución compienza \n",
    "       desde la última generación, así que el usuario debe ingresar dicho valor en 'ult_gen' hasta \n",
    "       el valor 'gen' que desee evolucionar. Además, guarda las imágenes de las evolcuiones subsecuentes.\n",
    "    \"\"\"\n",
    "    \n",
    "    if(seguir == False):\n",
    "        \n",
    "        table = np.arange((dim,dim))\n",
    "        binary = [0, 1]\n",
    "\n",
    "#        for i in range (1,dim-1):\n",
    "#            for j in range (1,dim-1):\n",
    "        table  = np.random.choice(binary)\n",
    "        \n",
    "#\n",
    "        plt.imshow(table, cmap='gray')\n",
    "#        plt.savefig(\"0.png\")\n",
    "        plt.imsave('0',table,cmap='gray') \n",
    "        plt.close()\n",
    "        \n",
    "    else:\n",
    "        \n",
    "        table = np.array([[0., 0., 0., 0., 0., 0., 0., 0., 0., 0.],\n",
    "       [0., 0., 0., 1., 1., 1., 0., 0., 0., 0.],\n",
    "       [0., 0., 1., 0., 1., 1., 1., 1., 0., 0.],\n",
    "       [0., 0., 1., 0., 0., 0., 0., 0., 1., 0.],\n",
    "       [0., 0., 0., 1., 1., 1., 0., 1., 0., 0.],\n",
    "       [0., 0., 0., 1., 0., 1., 0., 0., 0., 0.],\n",
    "       [0., 0., 0., 1., 0., 1., 0., 0., 0., 0.],\n",
    "       [0., 0., 0., 1., 1., 0., 0., 0., 0., 0.],\n",
    "       [0., 0., 0., 0., 1., 0., 0., 0., 0., 0.],\n",
    "       [0., 0., 0., 0., 0., 0., 0., 0., 0., 0.]])\n",
    "        \n",
    "    u,d, l, r, u_l, u_r, d_l, d_r = matrices(table, dim)\n",
    "    evolve(dim, gen, table, u,d, l, r, u_l, u_r, d_l, d_r, seguir, ult_gen)\n",
    "    \n",
    "    return table"
   ]
  },
  {
   "cell_type": "code",
   "execution_count": 11,
   "metadata": {
    "scrolled": true
   },
   "outputs": [
    {
     "ename": "TypeError",
     "evalue": "arange: scalar arguments expected instead of a tuple.",
     "output_type": "error",
     "traceback": [
      "\u001b[0;31m---------------------------------------------------------------------------\u001b[0m",
      "\u001b[0;31mTypeError\u001b[0m                                 Traceback (most recent call last)",
      "\u001b[0;32m<ipython-input-11-43ea8899c508>\u001b[0m in \u001b[0;36m<module>\u001b[0;34m\u001b[0m\n\u001b[0;32m----> 1\u001b[0;31m \u001b[0mmain\u001b[0m\u001b[0;34m(\u001b[0m\u001b[0mdim\u001b[0m\u001b[0;34m=\u001b[0m\u001b[0;36m10\u001b[0m\u001b[0;34m,\u001b[0m \u001b[0mgen\u001b[0m\u001b[0;34m=\u001b[0m\u001b[0;36m10\u001b[0m\u001b[0;34m,\u001b[0m \u001b[0mseguir\u001b[0m \u001b[0;34m=\u001b[0m \u001b[0;32mFalse\u001b[0m\u001b[0;34m,\u001b[0m \u001b[0mult_gen\u001b[0m \u001b[0;34m=\u001b[0m \u001b[0;36m10\u001b[0m\u001b[0;34m)\u001b[0m\u001b[0;34m\u001b[0m\u001b[0;34m\u001b[0m\u001b[0m\n\u001b[0m",
      "\u001b[0;32m<ipython-input-10-a4d6bc4cdacf>\u001b[0m in \u001b[0;36mmain\u001b[0;34m(dim, gen, seguir, ult_gen)\u001b[0m\n\u001b[1;32m     17\u001b[0m     \u001b[0;32mif\u001b[0m\u001b[0;34m(\u001b[0m\u001b[0mseguir\u001b[0m \u001b[0;34m==\u001b[0m \u001b[0;32mFalse\u001b[0m\u001b[0;34m)\u001b[0m\u001b[0;34m:\u001b[0m\u001b[0;34m\u001b[0m\u001b[0;34m\u001b[0m\u001b[0m\n\u001b[1;32m     18\u001b[0m \u001b[0;34m\u001b[0m\u001b[0m\n\u001b[0;32m---> 19\u001b[0;31m         \u001b[0mtable\u001b[0m \u001b[0;34m=\u001b[0m \u001b[0mnp\u001b[0m\u001b[0;34m.\u001b[0m\u001b[0marange\u001b[0m\u001b[0;34m(\u001b[0m\u001b[0;34m(\u001b[0m\u001b[0mdim\u001b[0m\u001b[0;34m,\u001b[0m\u001b[0mdim\u001b[0m\u001b[0;34m)\u001b[0m\u001b[0;34m)\u001b[0m\u001b[0;34m\u001b[0m\u001b[0;34m\u001b[0m\u001b[0m\n\u001b[0m\u001b[1;32m     20\u001b[0m         \u001b[0mbinary\u001b[0m \u001b[0;34m=\u001b[0m \u001b[0;34m[\u001b[0m\u001b[0;36m0\u001b[0m\u001b[0;34m,\u001b[0m \u001b[0;36m1\u001b[0m\u001b[0;34m]\u001b[0m\u001b[0;34m\u001b[0m\u001b[0;34m\u001b[0m\u001b[0m\n\u001b[1;32m     21\u001b[0m \u001b[0;34m\u001b[0m\u001b[0m\n",
      "\u001b[0;31mTypeError\u001b[0m: arange: scalar arguments expected instead of a tuple."
     ]
    }
   ],
   "source": [
    "main(dim=10, gen=10, seguir = False, ult_gen = 10)"
   ]
  },
  {
   "cell_type": "code",
   "execution_count": 7,
   "metadata": {},
   "outputs": [],
   "source": [
    "#¡NO BORRAR!\n",
    "\n",
    "#dimm = 16\n",
    "#table_ = np.zeros((dimm,dimm))\n",
    "\n",
    "\n",
    "#table_ = np.arange(dimm*dimm)\n",
    "#table_ = np.random.randint(0,high=2,size=dimm*dimm)\n",
    "#table_ = table_.reshape(dimm,dimm)\n",
    "#print(table_)\n",
    "\n",
    "#    for i in range (2,dim-2):\n",
    "#        for j in range (2,dim-2):\n",
    "#    \n",
    "#            table[i,j]  = 1\n",
    "#        \n",
    "#            if(i ==3 and j==3):\n",
    "#            \n",
    "#                table[i,j] = 0"
   ]
  },
  {
   "cell_type": "code",
   "execution_count": 8,
   "metadata": {},
   "outputs": [
    {
     "name": "stdout",
     "output_type": "stream",
     "text": [
      "[[0. 0. 0. 0. 0. 0. 0.]\n",
      " [0. 1. 0. 1. 1. 1. 0.]\n",
      " [0. 1. 1. 0. 0. 1. 0.]\n",
      " [0. 1. 0. 1. 0. 1. 0.]\n",
      " [0. 0. 0. 1. 0. 1. 0.]\n",
      " [0. 0. 1. 0. 0. 1. 0.]\n",
      " [0. 0. 0. 0. 0. 0. 0.]]\n",
      "14\n"
     ]
    }
   ],
   "source": [
    "dim = 7\n",
    "table = np.zeros((dim,dim))\n",
    "binary = [0, 1]\n",
    "\n",
    "for i in range (1,dim-1):\n",
    "    for j in range (1,dim-1):\n",
    "        table[i,j]  = np.random.choice(binary)\n",
    "        \n",
    "zeroes = np.count_nonzero(table == 1)\n",
    "print(table)\n",
    "print(zeroes)"
   ]
  },
  {
   "cell_type": "code",
   "execution_count": 9,
   "metadata": {},
   "outputs": [],
   "source": [
    "plt.imsave?"
   ]
  },
  {
   "cell_type": "code",
   "execution_count": null,
   "metadata": {},
   "outputs": [],
   "source": []
  }
 ],
 "metadata": {
  "kernelspec": {
   "display_name": "Python 3",
   "language": "python",
   "name": "python3"
  },
  "language_info": {
   "codemirror_mode": {
    "name": "ipython",
    "version": 3
   },
   "file_extension": ".py",
   "mimetype": "text/x-python",
   "name": "python",
   "nbconvert_exporter": "python",
   "pygments_lexer": "ipython3",
   "version": "3.7.3"
  }
 },
 "nbformat": 4,
 "nbformat_minor": 2
}
