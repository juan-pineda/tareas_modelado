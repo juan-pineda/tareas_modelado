{
 "cells": [
  {
   "cell_type": "code",
   "execution_count": 157,
   "metadata": {},
   "outputs": [],
   "source": [
    "import numpy as np\n",
    "import matplotlib.pyplot as plt\n",
    "import matplotlib.animation as animation\n",
    "\n",
    "#Para uso de tipografía Latex\n",
    "plt.rc('text', usetex = True)\n",
    "plt.rc('font', family = 'serif')"
   ]
  },
  {
   "cell_type": "code",
   "execution_count": 170,
   "metadata": {},
   "outputs": [],
   "source": [
    "#Función que crea la matriz inicial con valores aleatorios entre [0,1]\n",
    "#M_initial es la matriz de población inicial y n define su dimensión.\n",
    "\n",
    "def random_matrix(n):\n",
    "\n",
    "    dim = (n,n)\n",
    "    M_initial = np.random.randint(0,2, dim) \n",
    "    M_initial[0:n, 0  ] = 0\n",
    "    M_initial[0:n, n-1] = 0\n",
    "    M_initial[0, 0:n-1] = 0\n",
    "    M_initial[n-1, 0:n-1] = 0\n",
    "\n",
    "    return M_initial\n",
    "    "
   ]
  },
  {
   "cell_type": "code",
   "execution_count": 171,
   "metadata": {},
   "outputs": [],
   "source": [
    "#Funcón que realiza la traslación de las diferentes casillas.\n",
    "#M_states define el número de vecinos que tiene cada celda de la matriz M_initial.\n",
    "def board(M_initial, n):\n",
    "    \n",
    "    #--------------------------------------------------------------------------------------\n",
    "    #Traslación de abajo, arriba, derecha e izquierda, respectivamente.\n",
    "    roll_d  = np.roll(M_initial, 1, 0) \n",
    "    roll_u  = np.roll(M_initial,-1, 0) \n",
    "    roll_r  = np.roll(M_initial, 1, 1)\n",
    "    roll_l  = np.roll(M_initial,-1, 1)\n",
    "    #--------------------------------------------------------------------------------------\n",
    "    #Traslación de las diagonales\n",
    "    roll_lu  = np.roll(M_initial,-1, 1)\n",
    "    roll_lu  = np.roll(roll_lu,-1, 0)\n",
    "\n",
    "    roll_ru  = np.roll(M_initial, 1, 1)\n",
    "    roll_ru  = np.roll(roll_ru, -1, 0)\n",
    "\n",
    "    roll_ld  = np.roll(M_initial, 1, 0)\n",
    "    roll_ld  = np.roll(roll_ld, -1, 1)\n",
    "\n",
    "    roll_rd  = np.roll(M_initial, 1, 0)\n",
    "    roll_rd  = np.roll(roll_rd, 1, 1)\n",
    "    #--------------------------------------------------------------------------------------\n",
    "    M_states = roll_u + roll_d + roll_r + roll_l + roll_lu + roll_ld + roll_ru + roll_rd\n",
    "    M_states[0:n, 0  ]   = 0\n",
    "    M_states[0:n, n-1]   = 0\n",
    "    M_states[0, 0:n-1]   = 0\n",
    "    M_states[n-1, 0:n-1] = 0\n",
    "    M_states[2, 2] = 2\n",
    "\n",
    "    return M_states"
   ]
  },
  {
   "cell_type": "code",
   "execution_count": 160,
   "metadata": {},
   "outputs": [],
   "source": [
    "#Función que evoluciona la matriz inicial de una generación a otra.\n",
    "def evolution(M_initial, M_states, n):\n",
    "    \n",
    "    for i in range(0,n):\n",
    "        for j in range(0,n):\n",
    "            \n",
    "            if M_initial[i,j] == 0 and M_states[i,j] == 3:\n",
    "                M_initial[i,j] = 1  \n",
    "            \n",
    "            elif M_initial[i,j] == 0 and M_states[i,j] != 3:\n",
    "                M_initial[i,j] = 0  \n",
    "            \n",
    "            elif M_initial[i,j] == 1 and ( M_states[i,j] == 2 or M_states[i,j]  == 3):\n",
    "                M_initial[i,j] = 1  \n",
    "            \n",
    "            elif M_initial[i,j] == 1 and  ( M_states[i,j] < 2 or M_states[i,j]  > 3 ):\n",
    "                M_initial[i,j] = 0                    \n",
    "                \n",
    "    return M_initial"
   ]
  },
  {
   "cell_type": "code",
   "execution_count": 172,
   "metadata": {},
   "outputs": [],
   "source": [
    "def main(n,frame):\n",
    "    \n",
    "    #1. Lista donde se guardará el número de imagénes (generaciones) luego de salir de cada for. \n",
    "    #2. Lista donde se guardará el número de imagénes (generaciones) luego de salir de cada for.\n",
    "    #3. Arreglo que define los límites del cuadro donde se reproduce el juego. Se dasegún la dimensión de la matriz.\n",
    "    #4. Definición de los bordes del cuadro de juego, de título y subtítulo.\n",
    "    #5. Comando para crear y guardar el video. Este está formado por las imágenes que representan cada generación. \n",
    "    \n",
    "    pic  = []  #1.\n",
    "    fig  = plt.figure(figsize = (8,6)) #2.\n",
    "    M_initial = random_matrix(n) \n",
    "    \n",
    "    x = np.arange(0,n) #3.\n",
    "    y = np.arange(0,n) #3.\n",
    "\n",
    "    #------------------------------------------------------------------------------------    \n",
    "    for i in range(frame):\n",
    "        M_states = board(M_initial, n)\n",
    "        M_initial = evolution(M_initial, M_states, n)\n",
    "        \n",
    "        plt.xlim(x.min()*1.1, x.max()*1) #4.\n",
    "        plt.ylim(x.min()*1.1, x.max()*1) #4.\n",
    "        plt.suptitle(r'\\textbf{Juego de la vida}', fontsize=18) #4.\n",
    "        plt.title(r'Generaciones en evolucion $\\Gamma = {}$'.format(frame), fontsize=18) #4.\n",
    "       \n",
    "        \n",
    "        im = plt.imshow(M_initial, animated = True) \n",
    "        pic.append([im]) \n",
    "    #------------------------------------------------------------------------------------\n",
    "    ani = animation.ArtistAnimation(fig, pic, interval = 500, blit = True, repeat_delay = 0) #5.\n",
    "    ani.save('juego.mp4', dpi = 100) #5.\n",
    "    plt.show() \n",
    "    "
   ]
  },
  {
   "cell_type": "code",
   "execution_count": 166,
   "metadata": {},
   "outputs": [
    {
     "data": {
      "image/png": "[encoded data removed]",
      "text/plain": [
       "<Figure size 576x432 with 1 Axes>"
      ]
     },
     "metadata": {},
     "output_type": "display_data"
    }
   ],
   "source": [
    "main(100,20)\n"
   ]
  },
  {
   "cell_type": "code",
   "execution_count": null,
   "metadata": {},
   "outputs": [],
   "source": []
  }
 ],
 "metadata": {
  "kernelspec": {
   "display_name": "Python 3",
   "language": "python",
   "name": "python3"
  },
  "language_info": {
   "codemirror_mode": {
    "name": "ipython",
    "version": 3
   },
   "file_extension": ".py",
   "mimetype": "text/x-python",
   "name": "python",
   "nbconvert_exporter": "python",
   "pygments_lexer": "ipython3",
   "version": "3.7.6"
  }
 },
 "nbformat": 4,
 "nbformat_minor": 2
}
