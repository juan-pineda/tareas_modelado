{
 "cells": [
  {
   "cell_type": "markdown",
   "metadata": {},
   "source": [
    "Jesús Andrés Arrieta Villamizar -2208058\n",
    "# Visualization wheel\n",
    "\n",
    "   ### Visualization wheel 1: \n",
    "   \n",
    "En la siguiente imagen se muestra la coordenada radial $r$ en función del parámetro de rotación $|a|$ de un agujero negro de Kerr. La curva en negro representa el radio del horizonte de eventos, y las curvas en azul y rojo corresponden a $r_1$ y $r_2$, radios de órbitas que giran de manera rotante y co-rotante al objeto compacto, respectivamente. Cuando $|a| = 0$, $r_1$ y $r_2$  coinciden con el radio de la ISCO de Schwarzaschild ($r=3$), y el radio del horizonte de eventos se ubica en $r_+=2$. En el caso de rotación máxima $|a| = 1$, $r_1$ coincide con el horizonte de eventos de Kerr ($r_+=1$), mientras $r_2$ toma el valor máximo posible en $r=4$.\n",
    "\n",
    "<img src=\"image29.png\"> \n",
    "\n",
    "<img src=\"Tabla1.png\"> \n",
    "\n",
    "En la tabla se dispusieron los distintos porcentajes que se asignaron segun la rueda de visualización. Estos fueron escogidos con base en la información que la gráfica propociona. Tómese como ejemplo los porcentajes de ligereza y densidad, con valores del $90 \\%$ y $10 \\%$, respectivamente. La imagen es sencilla y no contiene una variedad de elementos que pueda saturar al lector, lo cual facilita la comprensión de la información que se desea transmitir. \n",
    "\n",
    "   ### Visualization wheel 2:\n",
    "\n",
    "En la siguiente imagen, como su título lo indica, se presentan los principales objetivos de la publicidad que se encuentra en facebook, la red social con más usuarios en el mundo. Se puede apreciar cómo mediante una representación en forma de \"torta\", la información se transmite con cifras precisas. Adicionalmente, la paleta de colores empleada suaviza la información al lector, ya que en este caso la gráfica contiene muchos más elementos respecto a la que se presentó previamente. Por otra parte, el recuadro en la parte derecha, permite identicar el nombre puntual de cada objetivo, sin necesidad de saturar la imagen en la cual se muestran los valores numéricos. \n",
    "\n",
    "\n",
    "<img src=\"w2.png\"> \n",
    "\n",
    "<img src=\"Tabla2.png\"> \n",
    "\n",
    "En la tabla se dispusieron los distintos porcentajes que se asignaron segun la rueda de visualización. Estos fueron escogidos con base en la información que la gráfica propociona. Tómese como ejemplo, nuevamente, los porcentajes de ligereza y densidad, con valores del $70 \\%$ y $30 \\%$, respectivamente. A diferencia de la imagen anterior, el propósito del autor requiere que la imagen contenga más variedad de elementos para poder transmitir la información de una manera más clara, lo cual se refleja al comparar los porcentajes de densidad de ambas gráficas. Esto permite ver que a pesar de tener valores que difieren en gran medida, según el propósito y la comunidad a la que se desea dirigir,  en ambos casos la información queda clara al lector. "
   ]
  },
  {
   "cell_type": "markdown",
   "metadata": {},
   "source": [
    "# The truthful art\n",
    "\n",
    "   ### The truthful art 1: \n",
    "   \n",
    "En esta primera imagen, puede apreciarse cómo la fusión de dos agujeros negros de diferentes masas (medidas en masas solares) genera un agujero negro más masivo. Esto se hizo con la intención de mostrar las detecciónes de  ondas gravitacionales hasta la fecha, las cuales han sido generadas por la colisión de dichos cuerpos compactos. En el gráfico se dispone de manera ilustrativa cada agujero negro como una esfera con diferentes tamaños, lo cual indica al lector la diferencia entre las respectivas masas de estos cuerpos, cuyo valor se da en el eje de las ordenadas. Adicionalmente, las flechas que aparecen indican el agujero negro resultante luego de la colisión. \n",
    "   \n",
    "   <img src=\"BH.png\"> \n",
    "   \n",
    "   ### The truthful art 2:    \n",
    "   \n",
    "En la siguiente imagen, se exponen de manera gráfica las ejecuciones extrajudiciales que se realizaron en el mando presidencial $2002-2010$. Claramente, la intención del autor es transmitir al lector, mediante datos precisos, las defunciones de hombres y mujeres con sus respectivas edades. La información que proporciona tiene un soporte ilustrativo y comparativo, que permite comprender la magnitud de los hechos. Un ejemplo comparativo, es el incremento del $422 \\% $ de los delitos respecto al periodo $1994-$ $2001$. Esto último, deja ver al lector que no hay un sesgo sobre las cifras, ya que se realiza la comparación entre el mismo periodo de tiempo en años. Adicionalmente, se expone el número total de departamentos en los que se presentó el suceso, acompañado del número de casos por año. Como conclusión, en una sola imagen el autor proporciona gran cantidad de información detallada ilustrativa y comparativa, como se mencionó anteriormente. En consecuencia, el lector se forma una idea global de manera clara de los sucesos relacionados a las deparaciones y ejecucionas durante los años $2002-2010$.\n",
    "   \n",
    "   <img src=\"FP.jpg\"> \n",
    "   \n",
    "   "
   ]
  },
  {
   "cell_type": "code",
   "execution_count": null,
   "metadata": {},
   "outputs": [],
   "source": []
  }
 ],
 "metadata": {
  "kernelspec": {
   "display_name": "Python 3",
   "language": "python",
   "name": "python3"
  },
  "language_info": {
   "codemirror_mode": {
    "name": "ipython",
    "version": 3
   },
   "file_extension": ".py",
   "mimetype": "text/x-python",
   "name": "python",
   "nbconvert_exporter": "python",
   "pygments_lexer": "ipython3",
   "version": "3.6.5"
  }
 },
 "nbformat": 4,
 "nbformat_minor": 2
}
