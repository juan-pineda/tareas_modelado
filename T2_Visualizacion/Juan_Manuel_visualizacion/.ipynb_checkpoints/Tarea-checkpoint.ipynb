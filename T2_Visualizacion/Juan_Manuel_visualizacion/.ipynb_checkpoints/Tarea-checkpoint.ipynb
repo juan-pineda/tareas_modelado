{
 "cells": [
  {
   "cell_type": "markdown",
   "metadata": {},
   "source": [
    "# Visualization wheel and truthful art. "
   ]
  },
  {
   "cell_type": "markdown",
   "metadata": {},
   "source": [
    "Juan Manuel Velásquez, código:2208056."
   ]
  },
  {
   "cell_type": "markdown",
   "metadata": {},
   "source": [
    "Visialization wheel, ejemplo 1: gráfica del momento angular azimutal, momento angular latitudinal y $\\cos\\theta$ ($|u_0|$ y  $|u_1|$) en función del radio, para una óbitas esféricas de fotones alrededor de un agujero negro de Kerr. Artículo: Spherical photon orbits around a Kerr black hole, Edward Teo."
   ]
  },
  {
   "cell_type": "markdown",
   "metadata": {},
   "source": [
    "![title](wheel_1.png)"
   ]
  },
  {
   "cell_type": "markdown",
   "metadata": {},
   "source": [
    "La imagen muestra cuatro funciones en un mismo gráfico: <br />\n",
    "Densidad: 70 $\\%$ <br />\n",
    "Brillo: 30 $\\%$ <br />\n",
    "<br />\n",
    "La imagen no tiene elementos que distraiga la interpretación: <br />\n",
    "Funcionalidad: 90 $\\%$ <br />\n",
    "Decoración: 10 $\\%$ <br />\n",
    "<br />\n",
    "La imagen es plana: <br />\n",
    "Multidimensionalidad: 20 $\\%$ <br />\n",
    "Unidimensionalidad: 80 $\\%$ <br />\n",
    "<br />\n",
    "La imagen muestra las funciones en términos del radio: <br />\n",
    "Originalidad: 40 $\\%$ <br />\n",
    "Familiaridad: 60 $\\%$ <br />\n",
    "<br />\n",
    "Fue la primera vez que se graficó, sin embargo no es el primer trabajo en esta dirección: <br />\n",
    "Novedad: 70 $\\%$ <br />\n",
    "Redundancia: 30 $\\%$<br />\n",
    "<br />\n",
    "La imagen es abstracta, pero puede uno de cienta forma figurar qué pasa: <br />\n",
    "Abstracción: 90 $\\%$ <br />\n",
    "Figuración: 10 $\\%$ <br />"
   ]
  },
  {
   "cell_type": "markdown",
   "metadata": {},
   "source": [
    "Truthful  art, ejemplo 1: óbita esférica de fotones alrededor de un agujero negro de Kerr. Aquí el autor dispuso de un abuso del lenguaje al llamar \"esférico\" a una superficie de radio constante, pues en el espacio-tiempo de Kerr estos corresponden a esferoidales oblatos, no a esferas. De ese modo, la imagen debería coincidir con un elipsoide. Artículo: Spherical photon orbits around a Kerr black hole, Edward Teo."
   ]
  },
  {
   "cell_type": "markdown",
   "metadata": {},
   "source": [
    "![title](truth_1.png)"
   ]
  },
  {
   "cell_type": "markdown",
   "metadata": {},
   "source": [
    "Visialization wheel, ejemplo 2: número de susciptores de Netflix con respecto a los suscriptores de cable en Estados Unidos desde el año 2012 hasta el año 2017. Publicación: revista digital Statista."
   ]
  },
  {
   "cell_type": "markdown",
   "metadata": {},
   "source": [
    "![title](wheel_2.png)"
   ]
  },
  {
   "cell_type": "markdown",
   "metadata": {},
   "source": [
    "La imagen muestra dos funciones y varios elementos que no aportan mucho a la interpretación: <br />\n",
    "Densidad: 30 $\\%$ <br />\n",
    "Brillo: 70 $\\%$ <br />\n",
    "<br />\n",
    "La imagen tiene elementos pueden distraer y no son tan relevantes: <br />\n",
    "Funcionalidad: 40 $\\%$ <br />\n",
    "Decoración: 60 $\\%$ <br />\n",
    "<br />\n",
    "La imagen es plana: <br />\n",
    "Multidimensionalidad: 20 $\\%$ <br />\n",
    "Unidimensionalidad: 80 $\\%$ <br />\n",
    "<br />\n",
    "La imagen muestra un gráfico genérico que se ha visto ya muchas veces: <br />\n",
    "Originalidad: 30 $\\%$ <br />\n",
    "Familiaridad: 70 $\\%$ <br />\n",
    "Novedad: 30 $\\%$ <br />\n",
    "Redundancia: 70 $\\%$<br />\n",
    "<br />\n",
    "La imagen es abstracta: <br />\n",
    "Abstracción: 100 $\\%$ <br />\n",
    "Figuración: 0 $\\%$ <br />"
   ]
  },
  {
   "cell_type": "markdown",
   "metadata": {},
   "source": [
    "Truthful art, ejemplo 2: mapa de la enfermedad por conoravirus en Colombia el día 18 de mayo de 2020. Aquí los círclos naranjas representan la densidad de complación contagiada, sin embargo puede estar fuera de escala con respecto al número deal de infectados."
   ]
  },
  {
   "cell_type": "markdown",
   "metadata": {},
   "source": [
    "![title](truth_2.png)"
   ]
  },
  {
   "cell_type": "code",
   "execution_count": null,
   "metadata": {},
   "outputs": [],
   "source": []
  }
 ],
 "metadata": {
  "kernelspec": {
   "display_name": "Python 3",
   "language": "python",
   "name": "python3"
  },
  "language_info": {
   "codemirror_mode": {
    "name": "ipython",
    "version": 3
   },
   "file_extension": ".py",
   "mimetype": "text/x-python",
   "name": "python",
   "nbconvert_exporter": "python",
   "pygments_lexer": "ipython3",
   "version": "3.7.3"
  }
 },
 "nbformat": 4,
 "nbformat_minor": 2
}
